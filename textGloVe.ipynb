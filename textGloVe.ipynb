{
 "cells": [
  {
   "cell_type": "code",
   "execution_count": 4,
   "metadata": {
    "collapsed": true,
    "pycharm": {
     "name": "#%%\n"
    }
   },
   "outputs": [],
   "source": [
    "import pandas as pd\n",
    "import numpy as np\n",
    "import matplotlib.pyplot as plt\n",
    "from collections import Counter\n",
    "from imblearn.over_sampling import SMOTE\n",
    "import re\n",
    "from keras.models import Sequential\n",
    "from keras.layers import Dense, LSTM, Embedding, Dropout, BatchNormalization\n",
    "from keras.preprocessing.text import Tokenizer\n",
    "from keras.preprocessing.sequence import pad_sequences\n",
    "from sklearn.model_selection import train_test_split\n",
    "from keras.utils import to_categorical\n",
    "from sklearn.preprocessing import LabelEncoder\n",
    "from imblearn.over_sampling import SMOTE\n",
    "from nltk.corpus import stopwords\n",
    "import seaborn as sns\n",
    "from keras.callbacks import ReduceLROnPlateau, EarlyStopping\n",
    "from keras.optimizers import Adam\n",
    "import nltk\n",
    "import nlpaug.augmenter.word as naw\n",
    "from tqdm import tqdm\n",
    "from nltk.tokenize import word_tokenize\n",
    "from nltk.stem import WordNetLemmatizer"
   ]
  },
  {
   "cell_type": "markdown",
   "metadata": {
    "collapsed": false,
    "pycharm": {
     "name": "#%% md\n"
    }
   },
   "source": [
    "EDA"
   ]
  },
  {
   "cell_type": "code",
   "execution_count": 5,
   "metadata": {
    "collapsed": false,
    "pycharm": {
     "name": "#%%\n"
    }
   },
   "outputs": [],
   "source": [
    "df = pd.read_csv(\"cleaned_reviews.csv\")"
   ]
  },
  {
   "cell_type": "code",
   "execution_count": 6,
   "metadata": {
    "collapsed": false,
    "pycharm": {
     "name": "#%%\n"
    }
   },
   "outputs": [
    {
     "data": {
      "text/html": [
       "<div>\n",
       "<style scoped>\n",
       "    .dataframe tbody tr th:only-of-type {\n",
       "        vertical-align: middle;\n",
       "    }\n",
       "\n",
       "    .dataframe tbody tr th {\n",
       "        vertical-align: top;\n",
       "    }\n",
       "\n",
       "    .dataframe thead th {\n",
       "        text-align: right;\n",
       "    }\n",
       "</style>\n",
       "<table border=\"1\" class=\"dataframe\">\n",
       "  <thead>\n",
       "    <tr style=\"text-align: right;\">\n",
       "      <th></th>\n",
       "      <th>sentiments</th>\n",
       "      <th>cleaned_review</th>\n",
       "      <th>cleaned_review_length</th>\n",
       "      <th>review_score</th>\n",
       "    </tr>\n",
       "  </thead>\n",
       "  <tbody>\n",
       "    <tr>\n",
       "      <th>0</th>\n",
       "      <td>positive</td>\n",
       "      <td>i wish would have gotten one earlier love it a...</td>\n",
       "      <td>19</td>\n",
       "      <td>5.0</td>\n",
       "    </tr>\n",
       "    <tr>\n",
       "      <th>1</th>\n",
       "      <td>neutral</td>\n",
       "      <td>i ve learned this lesson again open the packag...</td>\n",
       "      <td>88</td>\n",
       "      <td>1.0</td>\n",
       "    </tr>\n",
       "    <tr>\n",
       "      <th>2</th>\n",
       "      <td>neutral</td>\n",
       "      <td>it is so slow and lags find better option</td>\n",
       "      <td>9</td>\n",
       "      <td>2.0</td>\n",
       "    </tr>\n",
       "    <tr>\n",
       "      <th>3</th>\n",
       "      <td>neutral</td>\n",
       "      <td>roller ball stopped working within months of m...</td>\n",
       "      <td>12</td>\n",
       "      <td>1.0</td>\n",
       "    </tr>\n",
       "    <tr>\n",
       "      <th>4</th>\n",
       "      <td>neutral</td>\n",
       "      <td>i like the color and size but it few days out ...</td>\n",
       "      <td>21</td>\n",
       "      <td>1.0</td>\n",
       "    </tr>\n",
       "  </tbody>\n",
       "</table>\n",
       "</div>"
      ],
      "text/plain": [
       "  sentiments                                     cleaned_review  \\\n",
       "0   positive  i wish would have gotten one earlier love it a...   \n",
       "1    neutral  i ve learned this lesson again open the packag...   \n",
       "2    neutral          it is so slow and lags find better option   \n",
       "3    neutral  roller ball stopped working within months of m...   \n",
       "4    neutral  i like the color and size but it few days out ...   \n",
       "\n",
       "   cleaned_review_length  review_score  \n",
       "0                     19           5.0  \n",
       "1                     88           1.0  \n",
       "2                      9           2.0  \n",
       "3                     12           1.0  \n",
       "4                     21           1.0  "
      ]
     },
     "execution_count": 6,
     "metadata": {},
     "output_type": "execute_result"
    }
   ],
   "source": [
    "df.head()"
   ]
  },
  {
   "cell_type": "code",
   "execution_count": 7,
   "metadata": {
    "collapsed": false,
    "pycharm": {
     "name": "#%%\n"
    }
   },
   "outputs": [
    {
     "name": "stdout",
     "output_type": "stream",
     "text": [
      "<class 'pandas.core.frame.DataFrame'>\n",
      "RangeIndex: 17340 entries, 0 to 17339\n",
      "Data columns (total 4 columns):\n",
      " #   Column                 Non-Null Count  Dtype  \n",
      "---  ------                 --------------  -----  \n",
      " 0   sentiments             17340 non-null  object \n",
      " 1   cleaned_review         17337 non-null  object \n",
      " 2   cleaned_review_length  17340 non-null  int64  \n",
      " 3   review_score           17340 non-null  float64\n",
      "dtypes: float64(1), int64(1), object(2)\n",
      "memory usage: 542.0+ KB\n"
     ]
    }
   ],
   "source": [
    "df.info()"
   ]
  },
  {
   "cell_type": "code",
   "execution_count": 8,
   "metadata": {
    "collapsed": false,
    "pycharm": {
     "name": "#%%\n"
    }
   },
   "outputs": [
    {
     "data": {
      "image/png": "[encoded data removed]",
      "text/plain": [
       "<Figure size 1000x600 with 1 Axes>"
      ]
     },
     "metadata": {},
     "output_type": "display_data"
    },
    {
     "name": "stdout",
     "output_type": "stream",
     "text": [
      "\n",
      "Statistik deskriptif untuk setiap label Sentiments:\n",
      "           cleaned_review_length                                               \\\n",
      "                           count       mean        std  min   25%   50%   75%   \n",
      "sentiments                                                                      \n",
      "negative                  1534.0  43.981095  39.428504  1.0  19.0  32.0  57.0   \n",
      "neutral                   6303.0  22.823259  25.738447  0.0   6.0  15.0  31.0   \n",
      "positive                  9503.0  33.051457  39.729465  1.0  10.0  21.0  41.0   \n",
      "\n",
      "                  review_score                                               \n",
      "              max        count      mean       std  min  25%  50%  75%  max  \n",
      "sentiments                                                                   \n",
      "negative    363.0       1534.0  3.362451  1.753289  1.0  1.0  4.0  5.0  5.0  \n",
      "neutral     360.0       6303.0  3.492464  1.715545  1.0  1.0  4.0  5.0  5.0  \n",
      "positive    571.0       9503.0  3.799221  1.615702  1.0  2.0  5.0  5.0  5.0  \n"
     ]
    }
   ],
   "source": [
    "# Menampilkan jumlah setiap kategori\n",
    "label_count = df['sentiments'].value_counts()\n",
    "\n",
    "# Plotting jumlah setiap kategori\n",
    "plt.figure(figsize=(10, 6))\n",
    "sns.countplot(y='sentiments', data=df, order=label_count.index)\n",
    "plt.xlabel('Count')\n",
    "plt.ylabel('sentiments')\n",
    "plt.title('Distribution of Sentiments')\n",
    "plt.show()\n",
    "\n",
    "# Menampilkan statistik deskriptif\n",
    "category_stats = df.groupby('sentiments').describe()\n",
    "print(\"\\nStatistik deskriptif untuk setiap label Sentiments:\")\n",
    "print(category_stats)"
   ]
  },
  {
   "cell_type": "markdown",
   "metadata": {
    "collapsed": false,
    "pycharm": {
     "name": "#%% md\n"
    }
   },
   "source": [
    "Pre-process"
   ]
  },
  {
   "cell_type": "code",
   "execution_count": 9,
   "metadata": {
    "collapsed": false,
    "pycharm": {
     "name": "#%%\n"
    }
   },
   "outputs": [],
   "source": [
    "def preprocess_text(text):\n",
    "\n",
    "    # remove punctuation\n",
    "    text = ''.join([char for char in text if char.isalnum() or char.isspace()])\n",
    "\n",
    "    # Remove stopwords\n",
    "    stop_words = set(stopwords.words('english'))\n",
    "    word_tokens = word_tokenize(text)\n",
    "    text = ' '.join([word for word in word_tokens if word.lower() not in stop_words])\n",
    "\n",
    "    # Lemmatization\n",
    "    lemmatizer = WordNetLemmatizer()\n",
    "    text = ' '.join([lemmatizer.lemmatize(word) for word in text.split()])\n",
    "\n",
    "    return text"
   ]
  },
  {
   "cell_type": "code",
   "execution_count": 10,
   "metadata": {
    "collapsed": false,
    "pycharm": {
     "name": "#%%\n"
    }
   },
   "outputs": [
    {
     "name": "stderr",
     "output_type": "stream",
     "text": [
      "[nltk_data] Downloading package wordnet to\n",
      "[nltk_data]     /Users/vallentaustin/nltk_data...\n",
      "[nltk_data]   Package wordnet is already up-to-date!\n"
     ]
    },
    {
     "data": {
      "text/plain": [
       "True"
      ]
     },
     "execution_count": 10,
     "metadata": {},
     "output_type": "execute_result"
    }
   ],
   "source": [
    "nltk.download('wordnet')"
   ]
  },
  {
   "cell_type": "code",
   "execution_count": 11,
   "metadata": {
    "collapsed": false,
    "pycharm": {
     "name": "#%%\n"
    }
   },
   "outputs": [
    {
     "name": "stdout",
     "output_type": "stream",
     "text": [
      "<class 'pandas.core.frame.DataFrame'>\n",
      "RangeIndex: 17340 entries, 0 to 17339\n",
      "Data columns (total 4 columns):\n",
      " #   Column                 Non-Null Count  Dtype  \n",
      "---  ------                 --------------  -----  \n",
      " 0   sentiments             17340 non-null  object \n",
      " 1   cleaned_review         17337 non-null  object \n",
      " 2   cleaned_review_length  17340 non-null  int64  \n",
      " 3   review_score           17340 non-null  float64\n",
      "dtypes: float64(1), int64(1), object(2)\n",
      "memory usage: 542.0+ KB\n"
     ]
    }
   ],
   "source": [
    "df.info()"
   ]
  },
  {
   "cell_type": "code",
   "execution_count": 12,
   "metadata": {
    "collapsed": false,
    "pycharm": {
     "name": "#%%\n"
    }
   },
   "outputs": [],
   "source": [
    "df['cleaned_review'] = df['cleaned_review'].astype(str)\n",
    "\n",
    "# Apply preprocessing to each headline\n",
    "df['cleaned_review'] = df['cleaned_review'].apply(preprocess_text)"
   ]
  },
  {
   "cell_type": "code",
   "execution_count": 13,
   "metadata": {
    "collapsed": false,
    "pycharm": {
     "name": "#%%\n"
    }
   },
   "outputs": [],
   "source": [
    "# Save the cleaned data to a new CSV file\n",
    "df.to_csv('cleaned_reviews_after.csv', index=False)"
   ]
  },
  {
   "cell_type": "markdown",
   "metadata": {
    "collapsed": false,
    "pycharm": {
     "name": "#%% md\n"
    }
   },
   "source": [
    "Augmentasi Data"
   ]
  },
  {
   "cell_type": "code",
   "execution_count": 14,
   "metadata": {
    "collapsed": false,
    "pycharm": {
     "name": "#%%\n"
    }
   },
   "outputs": [
    {
     "name": "stdout",
     "output_type": "stream",
     "text": [
      "<class 'pandas.core.frame.DataFrame'>\n",
      "RangeIndex: 17340 entries, 0 to 17339\n",
      "Data columns (total 4 columns):\n",
      " #   Column                 Non-Null Count  Dtype  \n",
      "---  ------                 --------------  -----  \n",
      " 0   sentiments             17340 non-null  object \n",
      " 1   cleaned_review         17313 non-null  object \n",
      " 2   cleaned_review_length  17340 non-null  int64  \n",
      " 3   review_score           17340 non-null  float64\n",
      "dtypes: float64(1), int64(1), object(2)\n",
      "memory usage: 542.0+ KB\n"
     ]
    }
   ],
   "source": [
    "df = pd.read_csv(\"cleaned_reviews_after.csv\")\n",
    "\n",
    "df.info()"
   ]
  },
  {
   "cell_type": "code",
   "execution_count": 15,
   "metadata": {
    "collapsed": false,
    "pycharm": {
     "name": "#%%\n"
    }
   },
   "outputs": [],
   "source": [
    "df['cleaned_review'] = df['cleaned_review'].astype(str)"
   ]
  },
  {
   "cell_type": "code",
   "execution_count": 16,
   "metadata": {
    "collapsed": false,
    "pycharm": {
     "name": "#%%\n"
    }
   },
   "outputs": [
    {
     "name": "stderr",
     "output_type": "stream",
     "text": [
      "  0%|          | 0/17340 [00:00<?, ?it/s][nltk_data] Downloading package averaged_perceptron_tagger to\n",
      "[nltk_data]     /Users/vallentaustin/nltk_data...\n",
      "[nltk_data]   Unzipping taggers/averaged_perceptron_tagger.zip.\n",
      "100%|██████████| 17340/17340 [00:32<00:00, 538.04it/s]\n"
     ]
    }
   ],
   "source": [
    "# Apply Easy Data Augmentation\n",
    "aug = naw.SynonymAug()\n",
    "augmented_data = []\n",
    "\n",
    "for review in tqdm(df['cleaned_review']):\n",
    "    augmented_data.append(aug.augment(review, n=3))"
   ]
  },
  {
   "cell_type": "code",
   "execution_count": 17,
   "metadata": {
    "collapsed": false,
    "pycharm": {
     "name": "#%%\n"
    }
   },
   "outputs": [],
   "source": [
    "# List of List to list\n",
    "augmented_data = [item for sublist in augmented_data for item in sublist]"
   ]
  },
  {
   "cell_type": "code",
   "execution_count": 18,
   "metadata": {
    "collapsed": false,
    "pycharm": {
     "name": "#%%\n"
    }
   },
   "outputs": [],
   "source": [
    "# Create a DataFrame for augmented data\n",
    "augmented_df = pd.DataFrame({'cleaned_review': augmented_data, 'sentiments': \"positive\"})\n",
    "\n",
    "# Combine original data and augmented data\n",
    "combined_data = pd.concat([df[['cleaned_review', 'sentiments']], augmented_df], ignore_index=True)\n",
    "\n",
    "# Save the combined data to a CSV file\n",
    "combined_data.to_csv('cleaned_review_afterV2.csv', index=False)"
   ]
  },
  {
   "cell_type": "code",
   "execution_count": 19,
   "metadata": {
    "collapsed": false,
    "pycharm": {
     "name": "#%%\n"
    }
   },
   "outputs": [],
   "source": [
    "df = pd.read_csv(\"cleaned_review_afterV2.csv\")\n",
    "\n",
    "df['cleaned_review'] = df['cleaned_review'].astype(str)"
   ]
  },
  {
   "cell_type": "code",
   "execution_count": 20,
   "metadata": {
    "collapsed": false,
    "pycharm": {
     "name": "#%%\n"
    }
   },
   "outputs": [
    {
     "data": {
      "image/png": "[encoded data removed]",
      "text/plain": [
       "<Figure size 1000x600 with 1 Axes>"
      ]
     },
     "metadata": {},
     "output_type": "display_data"
    },
    {
     "name": "stdout",
     "output_type": "stream",
     "text": [
      "\n",
      "Statistik deskriptif untuk setiap label Sentiments:\n",
      "           cleaned_review                      \n",
      "                    count unique       top freq\n",
      "sentiments                                     \n",
      "negative             1534   1105  horrible    4\n",
      "neutral              6303   4358      good   66\n",
      "positive            61523  55426      love  105\n"
     ]
    }
   ],
   "source": [
    "# Menampilkan jumlah setiap kategori\n",
    "label_count = df['sentiments'].value_counts()\n",
    "\n",
    "# Plotting jumlah setiap kategori\n",
    "plt.figure(figsize=(10, 6))\n",
    "sns.countplot(y='sentiments', data=df, order=label_count.index)\n",
    "plt.xlabel('Count')\n",
    "plt.ylabel('sentiments')\n",
    "plt.title('Distribution of Sentiments')\n",
    "plt.show()\n",
    "\n",
    "# Menampilkan statistik deskriptif\n",
    "category_stats = df.groupby('sentiments').describe()\n",
    "print(\"\\nStatistik deskriptif untuk setiap label Sentiments:\")\n",
    "print(category_stats)"
   ]
  },
  {
   "cell_type": "markdown",
   "metadata": {
    "collapsed": false,
    "pycharm": {
     "name": "#%% md\n"
    }
   },
   "source": [
    "Tokenization with GloVe Support"
   ]
  },
  {
   "cell_type": "code",
   "execution_count": 21,
   "metadata": {
    "collapsed": false,
    "pycharm": {
     "name": "#%%\n"
    }
   },
   "outputs": [
    {
     "name": "stdout",
     "output_type": "stream",
     "text": [
      "Token: 183, Word: wish\n",
      "Token: 15, Word: would\n",
      "Token: 673, Word: gotten\n",
      "Token: 10, Word: one\n",
      "Token: 2867, Word: earlier\n",
      "Token: 7, Word: love\n",
      "Token: 57, Word: make\n",
      "Token: 25, Word: working\n",
      "Token: 40, Word: laptop\n",
      "Token: 67, Word: much\n",
      "Token: 848, Word: easier\n"
     ]
    }
   ],
   "source": [
    "#Tokenize the text\n",
    "tokenizer = Tokenizer(num_words=5000, oov_token=\"<OOV>\")\n",
    "tokenizer.fit_on_texts(df['cleaned_review'])\n",
    "\n",
    "#Convert text to sequences of integers\n",
    "sequences = tokenizer.texts_to_sequences(df['cleaned_review'])\n",
    "\n",
    "#Pad sequences\n",
    "max_sequence_length = max(len(seq) for seq in sequences)\n",
    "padded_sequences = pad_sequences(sequences, maxlen=max_sequence_length)\n",
    "\n",
    "word_index = tokenizer.word_index\n",
    "reverse_word_index = dict([(value, key) for (key, value) in word_index.items()])\n",
    "\n",
    "#Select a single padded sequence\n",
    "padded_sequence = padded_sequences[0]\n",
    "\n",
    "#Print each token in the sequence and the corresponding word\n",
    "for token in padded_sequence:\n",
    "    if token != 0:\n",
    "        print(f\"Token: {token}, Word: {reverse_word_index[token]}\")"
   ]
  },
  {
   "cell_type": "code",
   "execution_count": 22,
   "metadata": {
    "collapsed": false,
    "pycharm": {
     "name": "#%%\n"
    }
   },
   "outputs": [],
   "source": [
    "#Load GloVe Embeddings\n",
    "glove_embeddings = {}\n",
    "with open('glove.6B.100d.txt', encoding='utf-8') as glove_file:\n",
    "  for line in glove_file:\n",
    "    values = line.split()\n",
    "    word = values[0]\n",
    "    coefs = np.asarray(values[1:], dtype='float32')\n",
    "    glove_embeddings[word] = coefs"
   ]
  },
  {
   "cell_type": "code",
   "execution_count": 23,
   "metadata": {
    "collapsed": false,
    "pycharm": {
     "name": "#%%\n"
    }
   },
   "outputs": [],
   "source": [
    "#Define vocabulary size for the embedding layer\n",
    "vocabulary_size = len(tokenizer.word_index)+1\n",
    "\n",
    "#Prepare the Embedding layer weights using GloVe embeddings\n",
    "embedding_dim = 100\n",
    "embedding_weights = np.zeros((vocabulary_size, embedding_dim))\n",
    "for word, i in tokenizer.word_index.items():\n",
    "  embedding_vector = glove_embeddings.get(word)\n",
    "  if embedding_vector is not None:\n",
    "    embedding_weights[i] = embedding_vector"
   ]
  },
  {
   "cell_type": "markdown",
   "metadata": {
    "collapsed": false,
    "pycharm": {
     "name": "#%% md\n"
    }
   },
   "source": [
    "SMOTE"
   ]
  },
  {
   "cell_type": "code",
   "execution_count": 24,
   "metadata": {
    "collapsed": false,
    "pycharm": {
     "name": "#%%\n"
    }
   },
   "outputs": [
    {
     "name": "stdout",
     "output_type": "stream",
     "text": [
      "Original data: Counter({'positive': 61523, 'neutral': 6303, 'negative': 1534})\n"
     ]
    }
   ],
   "source": [
    "#Count the instances of each category in the original data\n",
    "original_label = df['sentiments']\n",
    "counter_original = Counter(original_label)\n",
    "print(\"Original data:\", counter_original)"
   ]
  },
  {
   "cell_type": "code",
   "execution_count": 25,
   "metadata": {
    "collapsed": false,
    "pycharm": {
     "name": "#%%\n"
    }
   },
   "outputs": [],
   "source": [
    "#Encode the text labels to integers\n",
    "le = LabelEncoder()\n",
    "integer_categories = le.fit_transform(original_label)"
   ]
  },
  {
   "cell_type": "code",
   "execution_count": 26,
   "metadata": {
    "collapsed": false,
    "pycharm": {
     "name": "#%%\n"
    }
   },
   "outputs": [
    {
     "name": "stderr",
     "output_type": "stream",
     "text": [
      "/Users/vallentaustin/pyenv/env/lib/python3.10/site-packages/sklearn/utils/extmath.py:189: RuntimeWarning: invalid value encountered in matmul\n",
      "  ret = a @ b\n"
     ]
    },
    {
     "name": "stdout",
     "output_type": "stream",
     "text": [
      "\n",
      "Data after SMOTE: Counter({'positive': 61523, 'neutral': 61523, 'negative': 61523})\n"
     ]
    }
   ],
   "source": [
    "#Apply SMOTE\n",
    "smote = SMOTE(random_state = 42, k_neighbors=4)\n",
    "padded_sequences_res, integer_categories_res = smote.fit_resample(padded_sequences, integer_categories)\n",
    "\n",
    "#Reverse the integer encoding for the categories\n",
    "categories_resampled = le.inverse_transform(integer_categories_res)\n",
    "\n",
    "#Count the instance of each category in the resampled data\n",
    "counter_resampled = Counter(categories_resampled)\n",
    "print(\"\\nData after SMOTE:\", counter_resampled)\n",
    "\n",
    "one_hot_categories = to_categorical(integer_categories_res)"
   ]
  },
  {
   "cell_type": "code",
   "execution_count": 27,
   "metadata": {
    "collapsed": false,
    "pycharm": {
     "name": "#%%\n"
    }
   },
   "outputs": [
    {
     "data": {
      "image/png": "[encoded data removed]",
      "text/plain": [
       "<Figure size 1200x500 with 2 Axes>"
      ]
     },
     "metadata": {},
     "output_type": "display_data"
    }
   ],
   "source": [
    "import matplotlib.pyplot as plt\n",
    "\n",
    "# Data sebelum SMOTE\n",
    "original_labels = list(counter_original.keys())\n",
    "original_counts = list(counter_original.values())\n",
    "\n",
    "# Data setelah SMOTE\n",
    "resampled_labels = list(counter_resampled.keys())\n",
    "resampled_counts = list(counter_resampled.values())\n",
    "\n",
    "fig, (ax1, ax2) = plt.subplots(1, 2, figsize=(12, 5))\n",
    "\n",
    "# Diagram batang untuk data sebelum SMOTE\n",
    "ax1.bar(original_labels, original_counts, color='skyblue')\n",
    "ax1.set_title('Original Data')\n",
    "ax1.set_xlabel('Categories')\n",
    "ax1.set_ylabel('Number of Instances')\n",
    "\n",
    "# Diagram batang untuk data setelah SMOTE\n",
    "ax2.bar(resampled_labels, resampled_counts, color='lightgreen')\n",
    "ax2.set_title('Data after SMOTE')\n",
    "ax2.set_xlabel('Categories')\n",
    "ax2.set_ylabel('Number of Instances')\n",
    "\n",
    "plt.tight_layout()\n",
    "plt.show()"
   ]
  },
  {
   "cell_type": "markdown",
   "metadata": {
    "collapsed": false,
    "pycharm": {
     "name": "#%% md\n"
    }
   },
   "source": [
    "Modeling"
   ]
  },
  {
   "cell_type": "code",
   "execution_count": 28,
   "metadata": {
    "collapsed": false,
    "pycharm": {
     "name": "#%%\n"
    }
   },
   "outputs": [],
   "source": [
    "# Split datasets into train, validation, and test: 70% train, 20% validation, 10% test\n",
    "x_train, x_temp, y_train, y_temp = train_test_split(padded_sequences_res, one_hot_categories, test_size=0.3, random_state=42)\n",
    "x_val, x_test, y_val, y_test = train_test_split(x_temp, y_temp, test_size=0.33, random_state=42)"
   ]
  },
  {
   "cell_type": "code",
   "execution_count": 29,
   "metadata": {
    "collapsed": false,
    "pycharm": {
     "name": "#%%\n"
    }
   },
   "outputs": [
    {
     "name": "stdout",
     "output_type": "stream",
     "text": [
      "Train data shape: (129198, 315) (129198, 3)\n",
      "Validation data shape: (37098, 315) (37098, 3)\n",
      "Test data shape: (18273, 315) (18273, 3)\n"
     ]
    }
   ],
   "source": [
    "# Check the sizes of the resulting splits\n",
    "print(\"Train data shape:\", x_train.shape, y_train.shape)\n",
    "print(\"Validation data shape:\", x_val.shape, y_val.shape)\n",
    "print(\"Test data shape:\", x_test.shape,y_test.shape)"
   ]
  },
  {
   "cell_type": "code",
   "execution_count": 30,
   "metadata": {
    "collapsed": false,
    "pycharm": {
     "name": "#%%\n"
    }
   },
   "outputs": [
    {
     "name": "stdout",
     "output_type": "stream",
     "text": [
      "3\n"
     ]
    }
   ],
   "source": [
    "print(len(le.classes_))"
   ]
  },
  {
   "cell_type": "code",
   "execution_count": 31,
   "metadata": {
    "collapsed": false,
    "pycharm": {
     "name": "#%%\n"
    }
   },
   "outputs": [],
   "source": [
    "# Construct a simpler LSTM model\n",
    "model_lstm_simple = Sequential()\n",
    "\n",
    "# Embedding layer\n",
    "model_lstm_simple.add(Embedding(input_dim=vocabulary_size, output_dim=embedding_dim, weights=[embedding_weights], input_length=max_sequence_length, trainable=False))\n",
    "\n",
    "# First LSTM layer with BatchNormalization\n",
    "model_lstm_simple.add(LSTM(64, return_sequences=True, dropout=0.1))\n",
    "model_lstm_simple.add(BatchNormalization())\n",
    "\n",
    "# Second LSTM layer with BatchNormalization\n",
    "model_lstm_simple.add(LSTM(32, return_sequences=False, dropout=0.1))\n",
    "model_lstm_simple.add(BatchNormalization())\n",
    "\n",
    "# Output layer\n",
    "model_lstm_simple.add(Dense(len(le.classes_), activation='softmax'))"
   ]
  },
  {
   "cell_type": "code",
   "execution_count": 32,
   "metadata": {
    "collapsed": false,
    "pycharm": {
     "name": "#%%\n"
    }
   },
   "outputs": [
    {
     "name": "stderr",
     "output_type": "stream",
     "text": [
      "WARNING:absl:At this time, the v2.11+ optimizer `tf.keras.optimizers.Adam` runs slowly on M1/M2 Macs, please use the legacy Keras optimizer instead, located at `tf.keras.optimizers.legacy.Adam`.\n",
      "WARNING:absl:There is a known slowdown when using v2.11+ Keras optimizers on M1/M2 Macs. Falling back to the legacy Keras optimizer, i.e., `tf.keras.optimizers.legacy.Adam`.\n"
     ]
    }
   ],
   "source": [
    "adam = Adam(learning_rate=0.001)\n",
    "model_lstm_simple.compile(loss='categorical_crossentropy', optimizer=adam, metrics=['accuracy'])\n",
    "\n",
    "# Define ReduceLROnPlateau and EarlyStopping callbacks\n",
    "reduce_lr = ReduceLROnPlateau(monitor='val_loss', factor=0.2, patience=3, min_lr=0.0001)\n",
    "early_stop = EarlyStopping(monitor='val_loss', patience=5, restore_best_weights=True)"
   ]
  },
  {
   "cell_type": "code",
   "execution_count": 35,
   "metadata": {
    "collapsed": false,
    "pycharm": {
     "is_executing": true,
     "name": "#%%\n"
    }
   },
   "outputs": [
    {
     "name": "stdout",
     "output_type": "stream",
     "text": [
      "Epoch 1/3\n",
      "2019/2019 [==============================] - 434s 215ms/step - loss: 0.5944 - accuracy: 0.7243 - val_loss: 0.5752 - val_accuracy: 0.7309\n",
      "Epoch 2/3\n",
      "2019/2019 [==============================] - 1254s 621ms/step - loss: 0.5771 - accuracy: 0.7319 - val_loss: 0.5632 - val_accuracy: 0.7372\n",
      "Epoch 3/3\n",
      "2019/2019 [==============================] - 435s 216ms/step - loss: 0.5609 - accuracy: 0.7395 - val_loss: 0.5546 - val_accuracy: 0.7413\n"
     ]
    }
   ],
   "source": [
    "# Fit Model\n",
    "history_lstm_simple = model_lstm_simple.fit(x_train, y_train, validation_data=(x_val, y_val), batch_size=64, epochs=3)"
   ]
  },
  {
   "cell_type": "code",
   "execution_count": 36,
   "metadata": {
    "collapsed": false,
    "pycharm": {
     "name": "#%%\n"
    }
   },
   "outputs": [
    {
     "name": "stdout",
     "output_type": "stream",
     "text": [
      "1160/1160 [==============================] - 44s 37ms/step\n"
     ]
    },
    {
     "name": "stderr",
     "output_type": "stream",
     "text": [
      "WARNING:matplotlib.legend:No artists with labels found to put in legend.  Note that artists whose label start with an underscore are ignored when legend() is called with no argument.\n"
     ]
    },
    {
     "data": {
      "image/png": "[encoded data removed]",
      "text/plain": [
       "<Figure size 1200x400 with 2 Axes>"
      ]
     },
     "metadata": {},
     "output_type": "display_data"
    }
   ],
   "source": [
    "from sklearn.metrics import confusion_matrix\n",
    "\n",
    "# Plotting\n",
    "plt.figure(figsize=(12, 4))\n",
    "plt.subplot(1, 2, 1)\n",
    "plt.plot(history_lstm_simple.history['accuracy'], label='Train Accuracy')\n",
    "plt.plot(history_lstm_simple.history['val_accuracy'], label='Validation Accuracy')\n",
    "plt.title('Model Accuracy')\n",
    "plt.xlabel('Epochs')\n",
    "plt.ylabel('Accuracy')\n",
    "plt.legend()\n",
    "\n",
    "# Predict classes on validation data\n",
    "y_val_pred = model_lstm_simple.predict(x_val)\n",
    "y_val_pred_class = np.argmax(y_val_pred, axis=1)\n",
    "\n",
    "# Convert one-hot encoded targets back to labels\n",
    "y_val_classes = np.argmax(y_val, axis=1)\n",
    "\n",
    "# Compute confusion matrix\n",
    "conf_matrix = confusion_matrix(y_val_classes, y_val_pred_class)\n",
    "\n",
    "# Plot confusion matrix as heatmap\n",
    "plt.subplot(1, 2, 2)\n",
    "sns.heatmap(conf_matrix, annot=True, fmt=\"d\", cmap=\"gist_stern\", cbar=False, xticklabels=le.classes_, yticklabels=le.classes_)\n",
    "plt.title(\"Confusion Matrix\")\n",
    "plt.ylabel('Actual Class')\n",
    "plt.xlabel(\"Predict Class\")\n",
    "plt.legend()\n",
    "\n",
    "plt.tight_layout()\n",
    "plt.show()\n"
   ]
  },
  {
   "cell_type": "code",
   "execution_count": 37,
   "metadata": {
    "collapsed": false,
    "pycharm": {
     "name": "#%%\n"
    }
   },
   "outputs": [
    {
     "name": "stdout",
     "output_type": "stream",
     "text": [
      "4038/4038 [==============================] - 152s 38ms/step\n",
      "1160/1160 [==============================] - 43s 37ms/step\n",
      "Training Data:\n",
      "              precision    recall  f1-score   support\n",
      "\n",
      "    negative       0.69      0.84      0.76     43184\n",
      "     neutral       0.70      0.59      0.64     42960\n",
      "    positive       0.93      0.86      0.90     43054\n",
      "\n",
      "    accuracy                           0.77    129198\n",
      "   macro avg       0.77      0.77      0.77    129198\n",
      "weighted avg       0.77      0.77      0.77    129198\n",
      "\n",
      "Validation data:\n",
      "              precision    recall  f1-score   support\n",
      "\n",
      "    negative       0.67      0.83      0.74     12243\n",
      "     neutral       0.67      0.57      0.62     12477\n",
      "    positive       0.91      0.83      0.87     12378\n",
      "\n",
      "    accuracy                           0.74     37098\n",
      "   macro avg       0.75      0.74      0.74     37098\n",
      "weighted avg       0.75      0.74      0.74     37098\n",
      "\n"
     ]
    }
   ],
   "source": [
    "from sklearn.metrics import classification_report\n",
    "import numpy as np\n",
    "\n",
    "# Get Predictions\n",
    "y_train_pred = model_lstm_simple.predict(x_train)\n",
    "y_val_pred = model_lstm_simple.predict(x_val)\n",
    "\n",
    "# Convert probabilities to class labels\n",
    "y_train_pred_class = np.argmax(y_train_pred, axis=1)\n",
    "y_val_pred_class = np.argmax(y_val_pred, axis=1)\n",
    "\n",
    "# Convert one-hot encoded targets bact to labels\n",
    "y_train_classes = np.argmax(y_train, axis=1)\n",
    "y_val_classes = np.argmax(y_val, axis=1)\n",
    "\n",
    "# Compute and print classification report for training data\n",
    "print(\"Training Data:\")\n",
    "print(classification_report(y_train_classes, y_train_pred_class, target_names=le.classes_))\n",
    "\n",
    "# Compute and print classification report for validation data\n",
    "print(\"Validation data:\")\n",
    "print(classification_report(y_val_classes, y_val_pred_class, target_names=le.classes_))"
   ]
  }
 ],
 "metadata": {
  "kernelspec": {
   "display_name": "Python 3",
   "language": "python",
   "name": "python3"
  },
  "language_info": {
   "codemirror_mode": {
    "name": "ipython",
    "version": 3
   },
   "file_extension": ".py",
   "mimetype": "text/x-python",
   "name": "python",
   "nbconvert_exporter": "python",
   "pygments_lexer": "ipython3",
   "version": "3.10.11"
  }
 },
 "nbformat": 4,
 "nbformat_minor": 0
}
